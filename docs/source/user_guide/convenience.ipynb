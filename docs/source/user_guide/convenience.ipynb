{
 "cells": [
  {
   "metadata": {},
   "cell_type": "markdown",
   "source": "# Convenience function",
   "id": "94dfb6ccfa6eab83"
  },
  {
   "metadata": {},
   "cell_type": "markdown",
   "source": "If you just want to quickly plot compositions on a composition space without worrying too much about the plotting details, you can use the convenience function. It allows to plot compositions on a 2D or 3D composition space with minimal code. First, import the package to access the function.",
   "id": "6ba8f0a188a20c5c"
  },
  {
   "metadata": {},
   "cell_type": "code",
   "outputs": [],
   "execution_count": null,
   "source": [
    "import compspace as cs\n",
    "import pandas as pd"
   ],
   "id": "b912daac0363c5cc"
  },
  {
   "metadata": {},
   "cell_type": "markdown",
   "source": "Load the example data from a .csv with pandas. We also define a function to create subsets of the constituents. The dataset is a simulated materials library of an 8-component alloy system with 342 individual compositions.",
   "id": "90e9c1f7ec4ecdf9"
  },
  {
   "metadata": {},
   "cell_type": "code",
   "outputs": [],
   "execution_count": null,
   "source": [
    "# Load example data\n",
    "comps = pd.read_csv('comp_example.csv', index_col=0)\n",
    "\n",
    "# Function to create a subset of given constituents\n",
    "def create_subset(c: pd.DataFrame, constituents: list[str]) -> pd.DataFrame:\n",
    "    # Create the subset with the given constituents and re-normalize to 100 at.%\n",
    "    subset = c[constituents]\n",
    "    return subset.div(subset.sum(axis=1), axis=0) * 100\n",
    "\n",
    "# Visualize the DataFrame\n",
    "comps.head()"
   ],
   "id": "837ceb2174323215"
  },
  {
   "metadata": {},
   "cell_type": "markdown",
   "source": "The convenience function takes a DataFrame or a list of DataFrames, automatically decides whether to plot in 2D or 3D, creates a matplotlib figure and plots the compositions as a scatter plot. The function also accepts a variety of the standard scatter keyword arguments to customize the plot, however, if you want full control, you should visit the other guides for more customization options.",
   "id": "44c35298eac45087"
  },
  {
   "metadata": {},
   "cell_type": "code",
   "outputs": [],
   "execution_count": null,
   "source": [
    "# Create a ternary subset\n",
    "ternary_subset = create_subset(comps, ['Cr', 'Cu', 'Mo'])\n",
    "\n",
    "# Call the convenience function\n",
    "cs.plot_on_comp_space(ternary_subset, alpha=0.1, c='tab:red')"
   ],
   "id": "74311ec715ca7c3d"
  },
  {
   "metadata": {},
   "cell_type": "markdown",
   "source": "The convenience function will default to 3D plots whenever possible to avoid condensing too much information into 2D. Here, we create a quaternary subset and the function automatically creates a 3D plot.",
   "id": "c2f7670a3ce3d977"
  },
  {
   "metadata": {},
   "cell_type": "code",
   "outputs": [],
   "execution_count": null,
   "source": [
    "# Create a quaternary subset\n",
    "quaternary_subset = create_subset(comps, ['Cr', 'Cu', 'Mo', 'Ni'])\n",
    "\n",
    "# Call the convenience function again\n",
    "cs.plot_on_comp_space(quaternary_subset)"
   ],
   "id": "54cd41b997964677"
  },
  {
   "metadata": {},
   "cell_type": "markdown",
   "source": "It is also possible to plot multiple subsets at once by passing a list of DataFrames. Here, we create two quinary subsets and plot them together in one pyramid plot. Be aware that this only makes sense if all subsets have the same constituents.",
   "id": "ff6564e8973e7b61"
  },
  {
   "metadata": {},
   "cell_type": "code",
   "outputs": [],
   "execution_count": null,
   "source": [
    "# Create a quinary subset\n",
    "quinary_subset_1 = create_subset(comps, ['Cr', 'Cu', 'Mo', 'Ni', 'Fe'])\n",
    "# Artificially increase the Fe content and re-normalize\n",
    "quinary_subset_2 =  quinary_subset_1.copy()\n",
    "quinary_subset_2['Fe'] = quinary_subset_2['Fe'] * 2\n",
    "quinary_subset_2 = quinary_subset_2.div(quinary_subset_2.sum(axis=1), axis=0) * 100\n",
    "\n",
    "# Plot both subsets into the same composition space\n",
    "cs.plot_on_comp_space([quinary_subset_1, quinary_subset_2])"
   ],
   "id": "c1a9c56f8b0e9963"
  },
  {
   "metadata": {},
   "cell_type": "markdown",
   "source": "The convenience function returns the created matplotlib figure and axes, which allows for further customization of the plot ```fig, ax = cs.plot_on_comp_space(...)```. ",
   "id": "458082aa1c597909"
  }
 ],
 "metadata": {
  "kernelspec": {
   "display_name": "Python 3",
   "language": "python",
   "name": "python3"
  },
  "language_info": {
   "codemirror_mode": {
    "name": "ipython",
    "version": 2
   },
   "file_extension": ".py",
   "mimetype": "text/x-python",
   "name": "python",
   "nbconvert_exporter": "python",
   "pygments_lexer": "ipython2",
   "version": "2.7.6"
  }
 },
 "nbformat": 4,
 "nbformat_minor": 5
}
