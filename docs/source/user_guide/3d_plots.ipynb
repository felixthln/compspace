{
 "cells": [
  {
   "metadata": {},
   "cell_type": "markdown",
   "source": "# Create 3D composition space plots",
   "id": "3dec0a47553cb618"
  },
  {
   "metadata": {},
   "cell_type": "markdown",
   "source": "The same packages are required as in the 2D plots notebook:",
   "id": "7d97e5720e19275e"
  },
  {
   "metadata": {},
   "cell_type": "code",
   "outputs": [],
   "execution_count": null,
   "source": [
    "import matplotlib.pyplot as plt\n",
    "import compspace as cs\n",
    "import pandas as pd\n",
    "import numpy as np"
   ],
   "id": "872400745d383705"
  },
  {
   "metadata": {},
   "cell_type": "markdown",
   "source": "Load the sample example data file as well:",
   "id": "2791670c4ee63749"
  },
  {
   "metadata": {},
   "cell_type": "code",
   "outputs": [],
   "execution_count": null,
   "source": [
    "# Load example data\n",
    "comps = pd.read_csv('comp_example.csv', index_col=0)\n",
    "\n",
    "# Function to create a subset of given constituents\n",
    "def create_subset(c: pd.DataFrame, constituents: list[str]) -> pd.DataFrame:\n",
    "    # Create the subset with the given constituents and re-normalize to 100 at.%\n",
    "    subset = c[constituents]\n",
    "    return subset.div(subset.sum(axis=1), axis=0) * 100\n",
    "\n",
    "# Visualize the DataFrame\n",
    "comps.head()"
   ],
   "id": "92f7abaa6d9a317d"
  },
  {
   "metadata": {},
   "cell_type": "markdown",
   "source": "Currently, only quaternary (4-component) and quinary (5-component) composition spaces are supported for 3D plotting. Instead of ``compspace2D`` the projection ``compspace3D`` is needed for the 3D plots. The rest of the plotting functions are similar to the 2D case, however, there are no ticks and grids. Here is an example for a quaternary composition space, which plots a tetrahedron in 3D:",
   "id": "b3bd784035a4f9d9"
  },
  {
   "metadata": {},
   "cell_type": "code",
   "outputs": [],
   "execution_count": null,
   "source": [
    "# Create a quaternary subset\n",
    "quaternary_subset = create_subset(comps, ['Cr', 'Cu', 'Mo', 'Ni'])\n",
    "\n",
    "# Create a figure with a quaternary projection, but now in 3D\n",
    "fig, ax = plt.subplots(figsize=(4, 4), subplot_kw={'projection': 'compspace3D'})\n",
    "# Scatter the data points\n",
    "sc = ax.scatter(quaternary_subset, alpha=0.3)\n",
    "# Show the plot\n",
    "plt.show()"
   ],
   "id": "767678a01320bfa5"
  },
  {
   "metadata": {},
   "cell_type": "markdown",
   "source": "If you are running this on your on machine, you can make use of the interactive plotting capabilities of matplotlib by adding ``%matplotlib qt`` to the beginning of a jupyter notebook cell. This opens the plot in a separate interactive window. For more than four constituents, three dimensions are no longer sufficient to represent the full composition space. Therefore, for quinary and higher, the dimensionality needs to be reduced. In this package, this is done by plotting a pyramid with a rectangular base. This has the disadvantage that the distances between the individual vertices is not always identical, which needs to be kept in mind when interpreting the plots. Here is an example for a quinary composition space:",
   "id": "570cbf5afe19b3c9"
  },
  {
   "metadata": {},
   "cell_type": "code",
   "outputs": [],
   "execution_count": null,
   "source": [
    "# Create a quinary subset\n",
    "quinary_subset = create_subset(comps, ['Cr', 'Cu', 'Mo', 'Ni', 'Fe'])\n",
    "\n",
    "# Create a figure with a quaternary projection, but now in 3D\n",
    "fig, ax = plt.subplots(figsize=(4, 4), subplot_kw={'projection': 'compspace3D'})\n",
    "# Scatter the data points\n",
    "sc = ax.scatter(quinary_subset, alpha=0.3)\n",
    "# Show the plot\n",
    "plt.show()"
   ],
   "id": "1f87b8d02dc29b12"
  },
  {
   "metadata": {},
   "cell_type": "markdown",
   "source": [
    "### Animation\n",
    "\n",
    "```compspace``` also supports the creation of rotation animations for the 3D composition space plots. For this, there is an additional function ```rot_animation(...)``` which takes the figure and axis objects as input. Also, the number of frames and the resolution can be specified. To ensure the animation is created properly, make sure ```ffmpeg``` is installed on your system. The python version of that is automatically installed when installing the ```compspace``` package, but the base version needs to be installed manually from [here](https://ffmpeg.org/download.html). The creation of the animation will still work without it, but matplotlib will fall back to ```pillow``` which can have some side effects."
   ],
   "id": "5f45b31f409cacf5"
  },
  {
   "metadata": {},
   "cell_type": "code",
   "outputs": [],
   "execution_count": null,
   "source": [
    "# Create a quinary subset\n",
    "quinary_subset = create_subset(comps, ['Cr', 'Cu', 'Mo', 'Ni', 'Fe'])\n",
    "\n",
    "# Create a figure with a quaternary projection, but now in 3D\n",
    "fig, ax = plt.subplots(figsize=(4, 4), subplot_kw={'projection': 'compspace3D'})\n",
    "# Scatter the data points\n",
    "sc = ax.scatter(quinary_subset, alpha=0.3)\n",
    "# Animate the plot\n",
    "#cs.rot_animation(fig, ax, path='rot_animation.gif')  # comment in if you execute this on your own machine\n",
    "# Show the plot\n",
    "plt.show()"
   ],
   "id": "9cb063cfac2f9721"
  }
 ],
 "metadata": {
  "kernelspec": {
   "display_name": "Python 3",
   "language": "python",
   "name": "python3"
  },
  "language_info": {
   "codemirror_mode": {
    "name": "ipython",
    "version": 2
   },
   "file_extension": ".py",
   "mimetype": "text/x-python",
   "name": "python",
   "nbconvert_exporter": "python",
   "pygments_lexer": "ipython2",
   "version": "2.7.6"
  }
 },
 "nbformat": 4,
 "nbformat_minor": 5
}
