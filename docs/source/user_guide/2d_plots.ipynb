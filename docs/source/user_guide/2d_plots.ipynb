{
 "cells": [
  {
   "metadata": {},
   "cell_type": "markdown",
   "source": "# Create 2D composition space plots",
   "id": "4d9598975b195cb3"
  },
  {
   "metadata": {},
   "cell_type": "markdown",
   "source": "For this tutorial, we need matplotlib and compspace obviously, as well as pandas and numpy for loading and manipulating the data.",
   "id": "f37274b7a34a5d05"
  },
  {
   "metadata": {},
   "cell_type": "code",
   "outputs": [],
   "execution_count": null,
   "source": [
    "import matplotlib.pyplot as plt\n",
    "import compspace as cs\n",
    "import pandas as pd\n",
    "import numpy as np"
   ],
   "id": "99ef9eb714516176"
  },
  {
   "metadata": {},
   "cell_type": "markdown",
   "source": "Load the example data from a .csv with pandas. We also define a function to create subsets of the constituents. The dataset is a simulated materials library of an 8-component alloy system with 342 individual compositions.",
   "id": "13b9ee0389138062"
  },
  {
   "metadata": {},
   "cell_type": "code",
   "outputs": [],
   "execution_count": null,
   "source": [
    "# Load example data\n",
    "comps = pd.read_csv('comp_example.csv')\n",
    "\n",
    "# Function to create a subset of given constituents\n",
    "def create_subset(c: pd.DataFrame, constituents: list[str]) -> pd.DataFrame:\n",
    "    # Create the subset with the given constituents and re-normalize to 100 at.%\n",
    "    subset = c[constituents]\n",
    "    return subset.div(subset.sum(axis=1), axis=0) * 100\n",
    "\n",
    "# Visualize the DataFrame\n",
    "comps"
   ],
   "id": "95a3b47d237f640"
  },
  {
   "metadata": {},
   "cell_type": "markdown",
   "source": "We start by plotting a ternary subset of the data. The composition space plot can be created by passing \"compspace2D\" as a matplotlib projection when creating a new figure. The elements (columns in the DataFrame) are automatically added as axis labels.",
   "id": "2f57ece4d12828f5"
  },
  {
   "metadata": {},
   "cell_type": "code",
   "outputs": [],
   "execution_count": null,
   "source": [
    "# Create a ternary subset\n",
    "ternary_subset = create_subset(comps, ['Cr', 'Cu', 'Mo'])\n",
    "\n",
    "# Create a figure with a ternary projection\n",
    "fig, ax = plt.subplots(figsize=(4, 4), subplot_kw={'projection': 'compspace2D'})\n",
    "# Scatter the data points\n",
    "sc = ax.scatter(ternary_subset)\n",
    "# Show the plot\n",
    "plt.show()"
   ],
   "id": "bafbe651254571a2"
  },
  {
   "metadata": {},
   "cell_type": "markdown",
   "source": "For ternary and quaternary compositions, the grid and ticks are automatically added. This can be changed by ``ax.set_grid()`` and ``ax.set_ticks()`` respectively. For higher constistuents, these are disabled by default to avoid cluttering the plot, but are also available. Let's plot a quaternary subset and hide the grid and set different ticks.",
   "id": "a8ab8c60229583dd"
  },
  {
   "metadata": {},
   "cell_type": "code",
   "outputs": [],
   "execution_count": null,
   "source": [
    "# Create a quaternary subset\n",
    "quaternary_subset = create_subset(comps, ['Cr', 'Cu', 'Mo', 'Ni'])\n",
    "# Only show ticks every 20 at. %\n",
    "ticks = np.arange(0, 101, 20)\n",
    "\n",
    "# Create a figure with a quaternary projection, the projection is still 'compspace2D'\n",
    "fig, ax = plt.subplots(figsize=(4, 4), subplot_kw={'projection': 'compspace2D'})\n",
    "# Scatter the data points\n",
    "sc = ax.scatter(quaternary_subset)\n",
    "# Hide the grid\n",
    "ax.set_grid(False)\n",
    "ax.set_ticks(ticks=ticks)\n",
    "# Show the plot\n",
    "plt.show()"
   ],
   "id": "8cda328778ac7c1d"
  },
  {
   "metadata": {},
   "cell_type": "markdown",
   "source": "Other parameters of ``ax.scatter`` are forwarded to the underlying matplotlib scatter function. For example, we can change the color and alpha of the markers. Below, this is shown for a quinary subset. Of course, also multiple composition sets can be plotted in the same composition space.",
   "id": "e91ddb626e81131b"
  },
  {
   "metadata": {},
   "cell_type": "code",
   "outputs": [],
   "execution_count": null,
   "source": [
    "# Create a quinary subset\n",
    "quinary_subset_1 = create_subset(comps, ['Cr', 'Cu', 'Mo', 'Ni', 'Fe'])\n",
    "# Create a second quinary subset by doubling the Fe content\n",
    "quinary_subset_2 = quinary_subset_1.copy()\n",
    "quinary_subset_2['Fe'] = quinary_subset_2['Fe'] * 2\n",
    "quinary_subset_2 = quinary_subset_2.div(quinary_subset_2.sum(axis=1), axis=0) * 100\n",
    "\n",
    "# Create a figure with a quaternary projection, the projection is still 'compspace2D'\n",
    "fig, ax = plt.subplots(figsize=(4, 4), subplot_kw={'projection': 'compspace2D'})\n",
    "# Specify the color and alpha of the markers\n",
    "sc1 = ax.scatter(quinary_subset_1, c='tab:green', alpha=0.5)\n",
    "sc2 = ax.scatter(quinary_subset_2, c='tab:orange', alpha=0.5)\n",
    "# Show the plot\n",
    "plt.show()"
   ],
   "id": "92575749a61b9719"
  },
  {
   "metadata": {},
   "cell_type": "markdown",
   "source": "The package supports plotting up to octonary (8-element) composition spaces. Let's plot the entire dataset with all 8 constituents to end the tutorial.",
   "id": "e7638b650ac30e25"
  },
  {
   "metadata": {},
   "cell_type": "code",
   "outputs": [],
   "execution_count": null,
   "source": [
    "# Create a figure with a ternary projection\n",
    "fig, ax = plt.subplots(figsize=(4, 4), subplot_kw={'projection': 'compspace2D'})\n",
    "# Scatter the data points\n",
    "sc = ax.scatter(comps)\n",
    "# Show the plot\n",
    "plt.show()"
   ],
   "id": "bc969df7c7ed7b2d"
  }
 ],
 "metadata": {
  "kernelspec": {
   "display_name": "Python 3",
   "language": "python",
   "name": "python3"
  },
  "language_info": {
   "codemirror_mode": {
    "name": "ipython",
    "version": 2
   },
   "file_extension": ".py",
   "mimetype": "text/x-python",
   "name": "python",
   "nbconvert_exporter": "python",
   "pygments_lexer": "ipython2",
   "version": "2.7.6"
  }
 },
 "nbformat": 4,
 "nbformat_minor": 5
}
